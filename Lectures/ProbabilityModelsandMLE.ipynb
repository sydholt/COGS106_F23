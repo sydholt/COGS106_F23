{
 "cells": [
  {
   "cell_type": "markdown",
   "metadata": {},
   "source": [
    "# Probabiity Models and Maximum Likelihood Estimates "
   ]
  },
  {
   "cell_type": "markdown",
   "metadata": {},
   "source": [
    "## Probability Model\n",
    "\n",
    "### A probability model $P(x|\\theta)$ relates possible values of data x with\n",
    "### a set of one or more parameter values $\\theta$ of a probability distribution."
   ]
  },
  {
   "cell_type": "markdown",
   "metadata": {},
   "source": [
    "### Example: Binomial Distribution \n",
    "\n",
    "### In the case of a binomial distribution, \n",
    "### $$X \\sim B(n,p) $$ \n",
    "###  where the probability of getting k successes in n trials is given by the probability mass function\n",
    "\n",
    "$$ p(X = k) = {n \\choose k} p^k (1-p)^{n-k} $$\n",
    "\n",
    "### In our probability models the parameter $\\theta = \\{p\\}$ where $p$ is the probability of success.  \n",
    "### Notice that the parameters of a binomial distribution are $B(n,p)$. \n",
    "### In the probability model $n$ is a fixed value determined by the number of times you perform the experiment."
   ]
  },
  {
   "cell_type": "markdown",
   "metadata": {},
   "source": [
    "### Example: Normal Distribution \n",
    "\n",
    "### In the case of a normal distribution, \n",
    "$$ X \\sim N(\\mu, \\sigma), $$\n",
    "### The parameters of a probability model $\\theta = \\{\\mu, \\sigma\\}$  \n",
    "### where $\\mu$ is the mean and $\\sigma$ is the standard deviation.\n",
    "### Although we specify the probability model with all the parameters, we often are only interested in one of the parameters, often the mean. \n",
    "### In this case the other parameter cannot be ignored, but are \"nuisance\" parameter."
   ]
  },
  {
   "cell_type": "markdown",
   "metadata": {},
   "source": [
    "### Conditional Probability\n",
    "### If $\\theta$ is fixed and x is allowed to vary, the probability model $P(x|\\theta)$ describes\n",
    "### the conditional probability of the data given the probability distribution parameters.\\\\\n",
    "\n",
    "### For example, I can compute the probability of 3 heads in 5 flips of a fair coin using a binomial distribution. \n",
    "### Each coin flip is a Bernoulli process and heads is defined as a success.  \n",
    "### In this case my observation is x = \\{3\\} and $\\theta = \\{p\\} = \\{0.5\\}$ and the binomial distribution can be used to calculate the probability \n",
    "\n",
    "### $$P(x|\\theta) = {5 \\choose 3}(0.5)^3(0.5)^2$$$\n",
    "\n",
    "### The conditional probability over all possible values of $x$ sums to 1, just like any other probability, and in fact is just a statement of the probability distribution with the parameter $\\theta$ fixed at a known value"
   ]
  },
  {
   "cell_type": "markdown",
   "metadata": {},
   "source": [
    "### Likelihood \n",
    "### **Likelihood** is a **function** of the parameters, $\\theta$  that takes a probability model $P(x|\\theta)$, but treats the data x as \\textit{fixed} while $\\theta$ varies.\n",
    "### $$L(\\theta) = P(x|\\theta)$$\n",
    "\n",
    "## **Likelihood is not a probability distribution**  \n",
    "### In fact, each different value of the parameters $\\theta$ corresponds to a **different probability distribution**. \n",
    "### Likelihood measures the probability of the data for different values of the parameters $\\theta$, i.e., different probability distributions.  \n",
    "\n",
    "### Unlike probability distributions, **there is no constraint that the total likelihood must be one.**\n",
    "### Most importantly, the sum of the likelihood over all possible values of $\\theta$ can be arbitrary. "
   ]
  },
  {
   "cell_type": "markdown",
   "metadata": {},
   "source": [
    "### Likelihood Principle and Law of Likelihood\n",
    "### The likelihood function contains all of the information relevant to the evaluation of statistical evidence.\n",
    "### The Law of Likelihood states that within the framework of a probability model a set of data supports one hypothesis over another hypothesis if the conditional probability of the data given one hypothesis is greater than the conditional probability of the data given the other hypothesis.  \n",
    "### The data X is evidence favoring parameters $\\theta_1$ over $\\theta_2$ if $P(X|\\theta_1) > P(X|\\theta_2)$\n",
    "### The absolute value of Likelihood is never important.  It is the relative value of likelihood for different choices of parameters $\\theta$ that is important. That is, \\textit{it can be used to compare hypothesis about data}.\n",
    "### In most cases, a hypothesis represents a value of a parameter in a statistical model, such as the mean of a normal distribution. \n",
    "### The Likelihood Ratio (LR) is a measure of the relative probability of two hypothesis.  \n",
    "### $$ LR(\\theta_1,\\theta_2) = \\frac{L(\\theta_1)}{L(\\theta_2)}= \\frac{P(X|\\theta_1)}{P(X|\\theta_2)}$$\n",
    "### The likelihood ratio comparing two statistical hypotheses contains “all the information which the data provide concerning the relative merits” of those hypotheses.\n",
    "### The likelihood ratio is a lot like betting odds! "
   ]
  },
  {
   "cell_type": "markdown",
   "metadata": {},
   "source": [
    "### Comparison of Likelihoods - Binomial Distribution\n",
    "### We carry out an experiment where we flip the coin 10 times and observe 6 heads. \n",
    "\n",
    "### We can compute the likelihood of the data we observed under two hypothesis: \n",
    "\n",
    "### $\\theta_1: p = 0.5$ - coin is fair \n",
    "### $\\theta_2: p = 0.75$ - coin is biased to heads (trick coin)\n",
    "\n",
    "\n",
    "### $L(\\theta_1) = p(X = 6|\\theta_1) = {10 \\choose 6}(0.5)^6(0.5)^4$\n",
    "### $L(\\theta_2) = p(X = 6|\\theta_2) = {10 \\choose 6}(0.75)^6(0.25)^4$\n",
    "\n",
    "### To quantify the statistical evidence for the first hypothesis against the second, we simply divide one likelihood by the other. \n",
    "\n",
    "### $ LR(\\theta_1,\\theta_2) = \\frac{L(\\theta_1)}{L(\\theta_2)}$\n",
    "\n",
    "### $LR(\\theta_1,\\theta_2) = \\frac{{10 \\choose 6}(0.5)^6(0.5)^4}{{10 \\choose 6}(0.75)^6(0.25)^4} = 1.4$\n",
    "\t\n",
    "### In other words, the data are 1.4 times more probable under the fair-coin hypothesis than under the trick-coin hypothesis. Notice how the first terms in the two equations, ${10 \\choose 6}$, are equivalent and completely cancel each other out in the likelihood ratio - these are just details of the experiment.   "
   ]
  },
  {
   "cell_type": "markdown",
   "metadata": {},
   "source": [
    "### Likelihood Function\n",
    "### We could also compute the likelihood for all possible values of p and observe a graph that looks like this. \n",
    "\n",
    "![](images/binomiallikelihood.png)"
   ]
  },
  {
   "cell_type": "markdown",
   "metadata": {},
   "source": [
    "### Maximum Likelihood Estimate\n",
    "\n",
    "### A reasonable estimate of the best choice of the the parameters of a probability model $\\theta$ is the values of the parameters that give rise to the peak of the likelihood function. \n",
    "### This is known as a \\textit{Maximum Likelihood Estimate (MLE)} of the parameters of the probability model. \n",
    "### The likelihood function can also be used to tell us something about the uncertainty of the parameters.\n"
   ]
  },
  {
   "cell_type": "markdown",
   "metadata": {},
   "source": [
    "### Example: MLE estimates for Bimomial Distribution\n",
    "### For a binomial distribution $B(n,p)$, the likelihood and the conditional probability distribution are identical.\n",
    "### If we observe k heads in n coin tosses, the likelihood is simply \n",
    "### $$ L(p) = {n \\choose k} p^k (1-p)^{n-k}$$\n",
    "### To find the maximum of this function, we can take the derivative with respect to the parameter p, and set equal to zero.\\\\\n",
    "### $$\\frac{\\partial{L}}{\\partial{p}} = 0$$\n",
    "### It is often the case that the log-likelihood is easier to work with.  \n",
    "### Because the log function is a monotonic function the maximum of the likelihood and the log-likelihood occur at the same value of the parameter p.  \\\\\n",
    "#### $log(L) = log({n \\choose k} + log(p^k) + log(1-p^{n-k})$ \n",
    "#### $log(L) = log({n \\choose k} +k log(p) + (n-k)log(1-p)$ \n",
    "#### $\\frac{\\partial{L}}{\\partial{p}} = \\frac{k}{p} - \\frac{n-k}{1-p} = 0 $ \n",
    "#### $k(1-p) = (n-k)p$ \n",
    "#### $p = \\frac{k}{n}$ \n",
    "#### Thus the maximum likelihood estimate of p is the just the fraction of successes in the experiment! "
   ]
  },
  {
   "cell_type": "code",
   "execution_count": 4,
   "metadata": {},
   "outputs": [],
   "source": [
    "import numpy as np\n",
    "from matplotlib import pyplot as plt\n",
    "from scipy.stats import binom  #this is the binomial probability distribution or mass function\n",
    "from scipy.optimize import minimize #"
   ]
  },
  {
   "cell_type": "code",
   "execution_count": 5,
   "metadata": {},
   "outputs": [
    {
     "data": {
      "image/png": "[encoded data removed]",
      "text/plain": [
       "<Figure size 640x480 with 1 Axes>"
      ]
     },
     "metadata": {},
     "output_type": "display_data"
    }
   ],
   "source": [
    "#plot the binomial likelihood\n",
    "nsuccess = 6\n",
    "nfailures = 4\n",
    "n = nsuccess + nfailures\n",
    "\n",
    "p = np.linspace(0,1,101);\n",
    "likelihood = np.zeros(101)\n",
    "for j in range(len(p)):\n",
    "    likelihood[j] = binom.pmf(nsuccess,n,p[j]);\n",
    "\n",
    "plt.figure()\n",
    "plt.plot(p,likelihood,'k-')\n",
    "plt.xlabel('Parameter p')\n",
    "plt.ylabel('Likelihood')\n",
    "plt.show()"
   ]
  },
  {
   "cell_type": "code",
   "execution_count": 6,
   "metadata": {},
   "outputs": [],
   "source": [
    "#define my likelihood function\n",
    "def neglikebin(p):\n",
    "    neglike = -binom.pmf(nsuccess,n,p)  #please note the use of global variables nsuccess and n here.   This is different from matlab.\n",
    "    #note I put a negative in front of the likelihood equation. Computer programs minimize functions.     \n",
    "    return neglike"
   ]
  },
  {
   "cell_type": "code",
   "execution_count": 7,
   "metadata": {},
   "outputs": [
    {
     "name": "stdout",
     "output_type": "stream",
     "text": [
      "[0.6]\n"
     ]
    }
   ],
   "source": [
    "nsuccess = 6\n",
    "n = 10\n",
    "paramfit = minimize(neglikebin,0.5,method = 'Nelder-Mead'); #I chose the simplex algorithm in honor of Rouder\n",
    "pfit = paramfit['x']\n",
    "print(pfit)"
   ]
  },
  {
   "cell_type": "code",
   "execution_count": 8,
   "metadata": {},
   "outputs": [],
   "source": [
    "def negloglikebin(p):\n",
    "    negloglike = -np.log(binom.pmf(nsuccess,n,p))\n",
    "    return negloglike"
   ]
  },
  {
   "cell_type": "code",
   "execution_count": 9,
   "metadata": {},
   "outputs": [],
   "source": [
    "paramfit = minimize(negloglikebin,0.5,method = 'Nelder-Mead');\n",
    "pfit = paramfit['x']"
   ]
  },
  {
   "cell_type": "markdown",
   "metadata": {},
   "source": [
    "## Likelihood of Normal Distribution\n",
    "### If we have a set of samples \\{$x_n$\\}, n = 1,..,N that we wish to fit to a normal distribution, we have to develop an expression for the the Likelihood. \n",
    "### The Normal distribution has probability density \n",
    "### $$N(\\mu,\\sigma^2) = \\frac{1}{\\sigma\\sqrt{2\\pi}}e^{\\frac{-(x-\\mu)^2}{2\\sigma^2}}$$\n",
    "### where $\\mu$ is the mean and $\\sigma^2$ is the variance or standard deviation squared.  \n",
    "### The Likelihood for the set of observation \\{$x_n$\\}, n = 1,..N is the product of the normal density for each observation, \n",
    "### $$L(\\mu,\\sigma) = P(\\{x_n\\}|\\mu,\\sigma) = \\prod_{n=1}^N \\frac{1}{\\sigma\\sqrt{2\\pi}}e^{\\frac{-(x_n-\\mu)^2}{2\\sigma^2}}$$\n",
    "### $$L(\\mu,\\sigma) = P(\\{x_n\\}|\\mu,\\sigma) =  \\frac{1}{\\sigma\\sqrt{2\\pi}}^Ne^{\\frac{-\\sum_{n=1}^{N}(x_n-\\mu)^2}{2\\sigma^2}}$$\n"
   ]
  },
  {
   "cell_type": "markdown",
   "metadata": {},
   "source": [
    "## MLE for $\\mu$ of a Normal Distribution\n",
    "### To compute the MLE for $\\mu$ we need to evaluate $\\frac{\\partial{L(\\mu,\\sigma)}}{\\partial{\\mu}} = 0$\n",
    "### We take advantage of evaluate the log likelihood, using the natural logarithm (ln) \n",
    "### $ln(L(\\mu,\\sigma)) = -Nln(\\sigma\\sqrt{2\\pi})-\\frac{\\sum_{n=1}^{N}(x_n-\\mu)^2}{2\\sigma^2}$\n",
    "### $\\frac{\\partial{ln(L(\\mu,\\sigma)}}{\\partial{\\mu}} = \\frac{\\sum_{n=1}^{N}(x_n-\\mu)}{\\sigma^2} = 0$ \n",
    "### $\\displaystyle\\sum_{n=1}^N{x_n} - N\\mu = 0$\n",
    "### $\\mu = \\frac{1}{N} \\displaystyle\\sum_{n=1}^N{x_n} $ \n",
    "### The MLE estimate of $\\mu$ is the sample mean. \n",
    "### Its a similar derivation to show that the MLE estimate of $\\sigma^2$ is the sample variance. "
   ]
  },
  {
   "cell_type": "markdown",
   "metadata": {},
   "source": [
    "### Sum of Squared Errors/Sample Variance\n",
    "### Lets consider the form of the log-Likelihood. \n",
    "### $$ln(L(\\mu,\\sigma)) = -Nln(\\sigma\\sqrt{2\\pi})-\\frac{\\sum_{n=1}^{N}(x_n-\\mu)^2}{2\\sigma^2}$$\n",
    "### The first term is independent of the data $x_n$.\n",
    "### The second term, is a normalized measure of error if you were to model the data with the mean.  \n",
    "### Specifically it is one-half the sum of squared errors, divided by variance $\\sigma^2$"
   ]
  },
  {
   "cell_type": "markdown",
   "metadata": {},
   "source": [
    "## Model Comparisons and Likelihood Ratios\n",
    "### Let's consider two hypothesis about the data, which are expressed as \n",
    "### $$H_1: \\theta_1 = \\{\\mu,\\sigma\\} = \\{\\mu_1,\\sigma\\}$$\n",
    "### $$H_2: \\theta_2 = \\{\\mu,\\sigma\\} = \\{\\mu_2, \\sigma\\}$$\n",
    "### Commonly we only have a hypothesis about $\\mu$ and assume sigma is some unknown value fixed across models\n",
    "### We could then compare our hypothesis using a likelihood ratio\n",
    "### The Likelihood Ratio (LR) is a measure of the relative probability of two hypothesis.  \n",
    "### $$ LR(\\theta_1,\\theta_2) = \\frac{L(\\theta_1)}{L(\\theta_2)}$$\n",
    "### The Likelihood Ratio tells me the odds between the two hypothesis\n",
    "### With a logarithm.\n",
    "### $$ ln(LR(\\theta_1,\\theta_2)) = ln(L(\\theta_1))-ln(L(\\theta_2))$$\n",
    "### Thus we can look at which log-Likelihood is larger to determine which hypothesis is more probable. \n",
    "### Conversely, we can look at which negative log-Likelihood is smaller to determine which hypothesis is more probable. "
   ]
  },
  {
   "cell_type": "code",
   "execution_count": 23,
   "metadata": {},
   "outputs": [],
   "source": [
    "def negloglikenormal(mu,sigma):\n",
    "    ''' Please note that this function uses a global variable called data, which is the data you are fitting'''\n",
    "    N = len(data)\n",
    "    negloglike = N*np.log(sigma*np.sqrt(2*np.pi))+np.sum((data-mu)**2)/(2*sigma**2)\n",
    "    return negloglike"
   ]
  },
  {
   "cell_type": "markdown",
   "metadata": {},
   "source": [
    "### Mixture Model using Likelihood Comparisons \n",
    "### A common question we ask of data is whether the data comes from one probability distribution, or it comes from two different probability distributions.  "
   ]
  },
  {
   "cell_type": "code",
   "execution_count": 47,
   "metadata": {},
   "outputs": [
    {
     "data": {
      "image/png": "[encoded data removed]",
      "text/plain": [
       "<Figure size 640x480 with 1 Axes>"
      ]
     },
     "metadata": {},
     "output_type": "display_data"
    }
   ],
   "source": [
    "nsamps = 20\n",
    "data_all = np.zeros(2*nsamps)\n",
    "mu1 = 50\n",
    "sig1 = 20\n",
    "data1 = np.random.normal(mu1,sig1,nsamps)\n",
    "mu2 = 60\n",
    "sig2 = 20\n",
    "data2 =  np.random.normal(mu2,sig2,nsamps)\n",
    "data_all[0:nsamps] = data1;\n",
    "data_all[nsamps:2*nsamps] = data2;\n",
    "\n",
    "#%% MLE estimates\n",
    "#one model\n",
    "mu = np.mean(data_all)\n",
    "sigma = np.std(data_all)\n",
    "#two model\n",
    "mu1 = np.mean(data1)\n",
    "sigma1 = np.std(data1)\n",
    "mu2 = np.mean(data2)\n",
    "sigma2= np.std(data2)\n",
    "plt.hist([data1,data2],np.arange(-60,200,20))\n",
    "\n",
    "plt.show()"
   ]
  },
  {
   "cell_type": "code",
   "execution_count": 48,
   "metadata": {},
   "outputs": [],
   "source": [
    "#one distribution: \n",
    "data = data_all\n",
    "negloglike_1dist = negloglikenormal(mu,sigma)\n",
    "#two distributions.  Partition the data, and compute neg log likelihood for each part.  \n",
    "data = data1\n",
    "negloglike_1 = negloglikenormal(mu1,sigma1)\n",
    "data = data2\n",
    "negloglike_2 = negloglikenormal(mu2,sigma2)\n",
    "# you can sum the two negative log likelihoods together. \n",
    "negloglike_2dist = negloglike_1+negloglike_2\n"
   ]
  },
  {
   "cell_type": "markdown",
   "metadata": {},
   "source": [
    "## The Problem of overfitting data \n",
    "\n",
    "### This seems like a problem.  The probability of 2 means and 2 standard deviations is always higher than the probability of one mean and one standard deviation.  \n",
    "### Consider the limiting case where we believe each sample comes from a different distribution.  In that case, the mean of each distribution is that sample value, and each distribution perfectly models that data (standard deviation is 0). \n",
    "### Adding paramters or complexity to a model will always **make the model fit better**  \n",
    "### But, a model that is overfit, cannot **predict** well.  "
   ]
  },
  {
   "cell_type": "markdown",
   "metadata": {},
   "source": [
    "## Akaike Information Crierion (AIC)\n",
    "### Suppose that we have a probability model of some data. Let k be the number of estimated parameters in the model. \n",
    "### Let $\\hat{L}$ be the maximized value of the likelihood function for a model with $k$ parameters. \n",
    "### Then the AIC value of the model is the following:\n",
    "\n",
    "### $$ AIC = 2k - 2*ln(\\hat{L}) $$\n",
    "\n",
    "### Given a set of candidate models for the data, the preferred model is the one with the minimum AIC value. \n",
    "### Thus, AIC rewards goodness of fit (as assessed by the likelihood function), but it also includes a penalty that is an increasing function of the number of estimated parameters. \n",
    "### The penalty discourages overfitting, which is desired because increasing the number of parameters in the model almost always improves the goodness of the fit. "
   ]
  },
  {
   "cell_type": "code",
   "execution_count": 49,
   "metadata": {},
   "outputs": [],
   "source": [
    "k1 = 2 # for one distribution there are 2 parameters\n",
    "AIC_1dist = 2*negloglike_1dist + 2*(k1)\n",
    "k2 = 4 # for two distributions there are 4 parameters \n",
    "AIC_2dist = 2*negloglike_2dist + 2*(k2)\n",
    " "
   ]
  },
  {
   "cell_type": "code",
   "execution_count": null,
   "metadata": {},
   "outputs": [],
   "source": []
  }
 ],
 "metadata": {
  "kernelspec": {
   "display_name": "base",
   "language": "python",
   "name": "python3"
  },
  "language_info": {
   "codemirror_mode": {
    "name": "ipython",
    "version": 3
   },
   "file_extension": ".py",
   "mimetype": "text/x-python",
   "name": "python",
   "nbconvert_exporter": "python",
   "pygments_lexer": "ipython3",
   "version": "3.11.3"
  },
  "orig_nbformat": 4
 },
 "nbformat": 4,
 "nbformat_minor": 2
}
